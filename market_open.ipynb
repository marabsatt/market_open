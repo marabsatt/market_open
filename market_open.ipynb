{
 "cells": [
  {
   "cell_type": "code",
   "execution_count": 123,
   "metadata": {},
   "outputs": [],
   "source": [
    "from datetime import datetime, time, timedelta\n",
    "from time import sleep, gmtime, strftime\n",
    "from dateutil import parser\n",
    "import holidays\n",
    "import pytz"
   ]
  },
  {
   "cell_type": "code",
   "execution_count": 124,
   "metadata": {},
   "outputs": [],
   "source": [
    "def sleep_till_open():\n",
    "\n",
    "    \"\"\"\n",
    "    Checks for the next day the U.S. Stock Market is open based on Eastern Standard Time (EST). \n",
    "    The function then sleeps the program from the current datetime \n",
    "    until the market is open at 9:30am.\n",
    "    \"\"\"\n",
    "\n",
    "    # Insert your timezone into the timezone function\n",
    "    eastern_tz = pytz.timezone('US/Eastern')\n",
    "    current_time_eastern = datetime.now(eastern_tz).isoformat()\n",
    "    nyse = holidays.NYSE()\n",
    "    next_open = nyse.get_nth_working_day(current_time_eastern, 1)\n",
    "    next_trading_day = datetime.combine(next_open, time(9, 30)).isoformat()\n",
    "    \n",
    "    # New additon to print the datetime of the next open\n",
    "    date_diff = eastern_tz.localize(datetime.combine(next_open, time(9, 30))) - datetime.now(eastern_tz)\n",
    "\n",
    "    # Format the date_diff into a readable string with days, months, and time\n",
    "    days_remaining = date_diff.days\n",
    "    hours, remainder = divmod(date_diff.seconds, 3600)\n",
    "    minutes, seconds = divmod(remainder, 60)\n",
    "\n",
    "    # Construct the output string\n",
    "    formatted_diff = f\"Market will open in {days_remaining} days, {hours} hours, {minutes} minutes, and {seconds} seconds\"\n",
    "    print(formatted_diff)\n",
    "    while datetime.now() < parser.parse(next_trading_day):\n",
    "        sleep(1)"
   ]
  },
  {
   "cell_type": "code",
   "execution_count": 125,
   "metadata": {},
   "outputs": [],
   "source": [
    "def market_is_open():\n",
    "    \n",
    "    \"\"\"\n",
    "    Checks whether the U.S. stock market (NYSE) is currently open based on Eastern Standard Time (EST).\n",
    "    This function considers both the current date and time, taking into account:\n",
    "    - U.S. holidays observed by NYSE.\n",
    "    - Weekends (Saturday and Sunday) when the market is closed.\n",
    "    - Market open hours (9:00 AM to 4:00 PM EST) on weekdays when the market is open.\n",
    "    \"\"\"\n",
    "\n",
    "    try:\n",
    "        # Set the timezone to your timezone. My timezone is Eastern Standard Time (EST)\n",
    "        eastern_tz = pytz.timezone('US/Eastern')\n",
    "        current_time_eastern = datetime.now(eastern_tz)\n",
    "\n",
    "        # Check if the current day a recognized holiday\n",
    "        nyse_holidays = holidays.NYSE()\n",
    "        today_date_str = current_time_eastern.strftime('%Y-%m-%d')\n",
    "        is_holiday = nyse_holidays.get(today_date_str)\n",
    "        if is_holiday:\n",
    "            sleep_till_open()\n",
    "            market_is_open()\n",
    "\n",
    "        # Check if the current day (EST) is a weekday\n",
    "        day_of_week = current_time_eastern.weekday()\n",
    "        if day_of_week == 5 or day_of_week == 6:\n",
    "            sleep_till_open()\n",
    "            market_is_open()\n",
    "            \n",
    "\n",
    "        # Define the market open and close times in EST\n",
    "        market_open_time = time(9, 30)  # Market opens at 9:00 AM EST for premarket orders and 9:30 AM EST for all other orders\n",
    "        market_close_time = time(16, 0)  # Market closes at 4:00 PM EST\n",
    "\n",
    "        if market_open_time <= current_time_eastern.time() <= market_close_time:\n",
    "            return True\n",
    "        else:\n",
    "            sleep_till_open()\n",
    "            market_is_open()\n",
    "\n",
    "    except Exception as err:\n",
    "        print(err)\n",
    "\n",
    "    return True"
   ]
  },
  {
   "cell_type": "code",
   "execution_count": null,
   "metadata": {},
   "outputs": [],
   "source": [
    "market_is_open()"
   ]
  }
 ],
 "metadata": {
  "kernelspec": {
   "display_name": "market_open",
   "language": "python",
   "name": "python3"
  },
  "language_info": {
   "codemirror_mode": {
    "name": "ipython",
    "version": 3
   },
   "file_extension": ".py",
   "mimetype": "text/x-python",
   "name": "python",
   "nbconvert_exporter": "python",
   "pygments_lexer": "ipython3",
   "version": "3.9.19"
  }
 },
 "nbformat": 4,
 "nbformat_minor": 2
}
