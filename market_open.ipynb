{
 "cells": [
  {
   "cell_type": "code",
   "execution_count": 123,
   "metadata": {},
   "outputs": [],
   "source": [
    "from datetime import datetime, time, timedelta\n",
    "from time import sleep, gmtime, strftime\n",
    "from dateutil import parser\n",
    "import holidays\n",
    "import pytz"
   ]
  },
  {
   "cell_type": "code",
   "execution_count": 124,
   "metadata": {},
   "outputs": [],
   "source": [
    "def sleep_till_open():\n",
    "\n",
    "    \"\"\"\n",
    "    Checks for the next day the U.S. Stock Market is open based on Eastern Standard Time (EST). \n",
    "    The function then sleeps the program from the current datetime \n",
    "    until the market is open at 9:30am.\n",
    "    \"\"\"\n",
    "\n",
    "    # Insert your timezone into the timezone function\n",
    "    eastern_tz = pytz.timezone('US/Eastern')\n",
    "    current_time_eastern = datetime.now(eastern_tz).isoformat()\n",
    "    nyse = holidays.NYSE()\n",
    "    next_open = nyse.get_nth_working_day(current_time_eastern, 1)\n",
    "    next_trading_day = datetime.combine(next_open, time(9, 30)).isoformat()\n",
    "    \n",
    "    # New additon to print the datetime of the next open\n",
    "    date_diff = eastern_tz.localize(datetime.combine(next_open, time(9, 30))) - datetime.now(eastern_tz)\n",
    "\n",
    "    # Format the date_diff into a readable string with days, months, and time\n",
    "    days_remaining = date_diff.days\n",
    "    hours, remainder = divmod(date_diff.seconds, 3600)\n",
    "    minutes, seconds = divmod(remainder, 60)\n",
    "\n",
    "    # Construct the output string\n",
    "    formatted_diff = f\"Market will open in {days_remaining} days, {hours} hours, {minutes} minutes, and {seconds} seconds\"\n",
    "    print(formatted_diff)\n",
    "    while datetime.now() < parser.parse(next_trading_day):\n",
    "        sleep(1)"
   ]
  },
  {
   "cell_type": "code",
   "execution_count": 125,
   "metadata": {},
   "outputs": [],
   "source": [
    "def market_is_open():\n",
    "    \n",
    "    \"\"\"\n",
    "    Checks whether the U.S. stock market (NYSE) is currently open based on Eastern Standard Time (EST).\n",
    "    This function considers both the current date and time, taking into account:\n",
    "    - U.S. holidays observed by NYSE.\n",
    "    - Weekends (Saturday and Sunday) when the market is closed.\n",
    "    - Market open hours (9:00 AM to 4:00 PM EST) on weekdays when the market is open.\n",
    "    \"\"\"\n",
    "\n",
    "    try:\n",
    "        # Set the timezone to your timezone. My timezone is Eastern Standard Time (EST)\n",
    "        eastern_tz = pytz.timezone('US/Eastern')\n",
    "        current_time_eastern = datetime.now(eastern_tz)\n",
    "\n",
    "        # Check if the current day a recognized holiday\n",
    "        nyse_holidays = holidays.NYSE()\n",
    "        today_date_str = current_time_eastern.strftime('%Y-%m-%d')\n",
    "        is_holiday = nyse_holidays.get(today_date_str)\n",
    "        if is_holiday:\n",
    "            sleep_till_open()\n",
    "            market_is_open()\n",
    "\n",
    "        # Check if the current day (EST) is a weekday\n",
    "        day_of_week = current_time_eastern.weekday()\n",
    "        if day_of_week == 5 or day_of_week == 6:\n",
    "            sleep_till_open()\n",
    "            market_is_open()\n",
    "            \n",
    "\n",
    "        # Define the market open and close times in EST\n",
    "        market_open_time = time(9, 30)  # Market opens at 9:00 AM EST for premarket orders and 9:30 AM EST for all other orders\n",
    "        market_close_time = time(16, 0)  # Market closes at 4:00 PM EST\n",
    "\n",
    "        if market_open_time <= current_time_eastern.time() <= market_close_time:\n",
    "            return True\n",
    "        else:\n",
    "            sleep_till_open()\n",
    "            market_is_open()\n",
    "\n",
    "    except Exception as err:\n",
    "        print(err)\n",
    "\n",
    "    return True"
   ]
  },
  {
   "cell_type": "code",
   "execution_count": 126,
   "metadata": {},
   "outputs": [
    {
     "name": "stdout",
     "output_type": "stream",
     "text": [
      "Market will open in 0 days, 17 hours, 2 minutes, and 39 seconds\n"
     ]
    },
    {
     "ename": "KeyboardInterrupt",
     "evalue": "",
     "output_type": "error",
     "traceback": [
      "\u001b[0;31m---------------------------------------------------------------------------\u001b[0m",
      "\u001b[0;31mKeyboardInterrupt\u001b[0m                         Traceback (most recent call last)",
      "Cell \u001b[0;32mIn[126], line 1\u001b[0m\n\u001b[0;32m----> 1\u001b[0m \u001b[43mmarket_is_open\u001b[49m\u001b[43m(\u001b[49m\u001b[43m)\u001b[49m\n",
      "Cell \u001b[0;32mIn[125], line 38\u001b[0m, in \u001b[0;36mmarket_is_open\u001b[0;34m()\u001b[0m\n\u001b[1;32m     36\u001b[0m         \u001b[38;5;28;01mreturn\u001b[39;00m \u001b[38;5;28;01mTrue\u001b[39;00m\n\u001b[1;32m     37\u001b[0m     \u001b[38;5;28;01melse\u001b[39;00m:\n\u001b[0;32m---> 38\u001b[0m         \u001b[43msleep_till_open\u001b[49m\u001b[43m(\u001b[49m\u001b[43m)\u001b[49m\n\u001b[1;32m     39\u001b[0m         market_is_open()\n\u001b[1;32m     41\u001b[0m \u001b[38;5;28;01mexcept\u001b[39;00m \u001b[38;5;167;01mException\u001b[39;00m \u001b[38;5;28;01mas\u001b[39;00m err:\n",
      "Cell \u001b[0;32mIn[124], line 28\u001b[0m, in \u001b[0;36msleep_till_open\u001b[0;34m()\u001b[0m\n\u001b[1;32m     26\u001b[0m \u001b[38;5;28mprint\u001b[39m(formatted_diff)\n\u001b[1;32m     27\u001b[0m \u001b[38;5;28;01mwhile\u001b[39;00m datetime\u001b[38;5;241m.\u001b[39mnow() \u001b[38;5;241m<\u001b[39m parser\u001b[38;5;241m.\u001b[39mparse(next_trading_day):\n\u001b[0;32m---> 28\u001b[0m     \u001b[43msleep\u001b[49m\u001b[43m(\u001b[49m\u001b[38;5;241;43m1\u001b[39;49m\u001b[43m)\u001b[49m\n",
      "\u001b[0;31mKeyboardInterrupt\u001b[0m: "
     ]
    }
   ],
   "source": [
    "market_is_open()"
   ]
  },
  {
   "cell_type": "code",
   "execution_count": null,
   "metadata": {},
   "outputs": [],
   "source": []
  }
 ],
 "metadata": {
  "kernelspec": {
   "display_name": "market_open",
   "language": "python",
   "name": "python3"
  },
  "language_info": {
   "codemirror_mode": {
    "name": "ipython",
    "version": 3
   },
   "file_extension": ".py",
   "mimetype": "text/x-python",
   "name": "python",
   "nbconvert_exporter": "python",
   "pygments_lexer": "ipython3",
   "version": "3.9.19"
  }
 },
 "nbformat": 4,
 "nbformat_minor": 2
}
